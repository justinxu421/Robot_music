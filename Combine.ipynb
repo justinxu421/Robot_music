{
 "cells": [
  {
   "cell_type": "code",
   "execution_count": null,
   "metadata": {},
   "outputs": [],
   "source": [
    "from music21 import converter,instrument # or import *\n",
    "import os\n",
    "\n",
    "path = './midiFiles/CombineStuff/'\n",
    "strFile = path + 'part1.mid' \n",
    "a = converter.parse(strFile) #midi.translate.midiFileToStream(strFile)\n",
    "for fn in os.listdir(path):\n",
    "    if('mid' in fn):\n",
    "        musicPart = converter.parse(path + fn)\n",
    "    a.insert(0, musicPart)\n",
    "\n",
    "a.write('midi', path + 'original.mid')\n"
   ]
  },
  {
   "cell_type": "code",
   "execution_count": null,
   "metadata": {},
   "outputs": [],
   "source": []
  },
  {
   "cell_type": "code",
   "execution_count": null,
   "metadata": {},
   "outputs": [],
   "source": []
  }
 ],
 "metadata": {
  "kernelspec": {
   "display_name": "Python 3",
   "language": "python",
   "name": "python3"
  },
  "language_info": {
   "codemirror_mode": {
    "name": "ipython",
    "version": 3
   },
   "file_extension": ".py",
   "mimetype": "text/x-python",
   "name": "python",
   "nbconvert_exporter": "python",
   "pygments_lexer": "ipython3",
   "version": "3.6.3"
  }
 },
 "nbformat": 4,
 "nbformat_minor": 2
}
