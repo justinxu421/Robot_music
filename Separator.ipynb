{
 "cells": [
  {
   "cell_type": "code",
   "execution_count": 14,
   "metadata": {
    "collapsed": false,
    "scrolled": false
   },
   "outputs": [
    {
     "name": "stdout",
     "output_type": "stream",
     "text": [
      "5\n",
      "<music21.stream.Part Harpsichord>\n",
      "./midiFiles/RealSlimShadyParts/part1.mid\n",
      "<music21.stream.Part object at 0x1180c9278>\n",
      "./midiFiles/RealSlimShadyParts/part2.mid\n",
      "<music21.stream.Part Piano>\n",
      "./midiFiles/RealSlimShadyParts/part3.mid\n",
      "<music21.stream.Part StringInstrument>\n",
      "./midiFiles/RealSlimShadyParts/part4.mid\n",
      "<music21.stream.Part Flute>\n",
      "./midiFiles/RealSlimShadyParts/part5.mid\n"
     ]
    },
    {
     "name": "stderr",
     "output_type": "stream",
     "text": [
      "midi.base.py: WARNING: Conversion error for <MidiEvent PROGRAM_CHANGE, t=0, track=1, channel=1>: Got incorrect data for <MidiEvent PROGRAM_CHANGE, t=0, track=1, channel=1> in .data: None,cannot parse Program Change; ignored.\n"
     ]
    }
   ],
   "source": [
    "from music21 import * # or import *\n",
    "s = converter.parse('./midiFiles/eminem-the_real_slim_shady.mid')\n",
    "\n",
    "s2 = instrument.partitionByInstrument(s)\n",
    "print(len(s2.parts))\n",
    "\n",
    "count = 1;\n",
    "for p in s2.parts:\n",
    "    print(p)\n",
    "    path = './midiFiles/RealSlimShadyParts/part'\n",
    "    mid = '.mid'\n",
    "    fileName = path + str(count) + mid\n",
    "    print(fileName)\n",
    "    count += 1\n",
    "    p.write('midi', fileName)\n"
   ]
  },
  {
   "cell_type": "code",
   "execution_count": 120,
   "metadata": {
    "collapsed": false,
    "scrolled": true
   },
   "outputs": [
    {
     "name": "stdout",
     "output_type": "stream",
     "text": [
      "loop-3-120-bpm.mid\n",
      "1\n",
      "120.0\n",
      "<music21.duration.Duration 16.0>\n",
      "<music21.stream.Measure 2 offset=4.0>\n",
      "{0.0} <music21.note.Note F#>\n",
      "{0.0} <music21.note.Note C>\n",
      "{0.5} <music21.chord.Chord F#2 D2>\n",
      "{0.75} <music21.note.Note C>\n",
      "{1.0} <music21.note.Note F#>\n",
      "{1.25} <music21.note.Note C>\n",
      "{1.5} <music21.note.Note B->\n",
      "{1.5} <music21.note.Note D>\n",
      "{1.75} <music21.note.Note D>\n",
      "{2.0} <music21.note.Note F#>\n",
      "{2.0} <music21.note.Note C>\n",
      "{2.5} <music21.chord.Chord F#2 D2>\n",
      "{2.75} <music21.note.Note C>\n",
      "{3.0} <music21.note.Note F#>\n",
      "{3.25} <music21.note.Note C>\n",
      "{3.5} <music21.chord.Chord B-2 D2>\n",
      "{3.75} <music21.note.Note D>\n",
      "<music21.stream.Measure 3 offset=8.0>\n",
      "{0.0} <music21.note.Note C#>\n",
      "{0.0} <music21.note.Note F#>\n",
      "{0.0} <music21.note.Note C>\n",
      "{0.5} <music21.chord.Chord F#2 D2>\n",
      "{0.75} <music21.note.Note C>\n",
      "{1.0} <music21.note.Note F#>\n",
      "{1.25} <music21.note.Note C>\n",
      "{1.5} <music21.chord.Chord B-2 D2>\n",
      "{1.75} <music21.note.Note D>\n",
      "{2.0} <music21.note.Note F#>\n",
      "{2.0} <music21.note.Note C>\n",
      "{2.5} <music21.chord.Chord F#2 D2>\n",
      "{2.75} <music21.note.Note C>\n",
      "{3.0} <music21.note.Note F#>\n",
      "{3.25} <music21.note.Note C>\n",
      "{3.5} <music21.note.Note B->\n",
      "{3.5} <music21.note.Note D>\n",
      "{3.75} <music21.note.Note D>\n",
      "<music21.stream.Measure 4 offset=12.0>\n",
      "{0.0} <music21.chord.Chord F3 F#2 C2>\n",
      "{0.25} <music21.note.Note D>\n",
      "{0.5} <music21.note.Note D>\n",
      "{0.75} <music21.note.Note C>\n",
      "{1.0} <music21.note.Note D>\n",
      "{1.25} <music21.note.Note C>\n",
      "{1.5} <music21.note.Note D>\n",
      "{1.75} <music21.note.Note D>\n",
      "{2.0} <music21.note.Note C>\n",
      "{2.25} <music21.note.Note D>\n",
      "{2.5} <music21.note.Note C>\n",
      "{2.75} <music21.note.Note D>\n",
      "{3.0} <music21.note.Note C>\n",
      "{3.25} <music21.note.Note D>\n",
      "{3.5} <music21.note.Note C>\n",
      "{3.75} <music21.note.Note D>\n",
      "{3.75} <music21.note.Rest rest>\n",
      "{4.0} <music21.bar.Barline style=final>\n"
     ]
    }
   ],
   "source": [
    "import os\n",
    "for fn in os.listdir('./midiFiles/hello'):\n",
    "    if('mid' in fn):\n",
    "        print(fn)\n",
    "        s = converter.parse('./midiFiles/hello/' + fn)\n",
    "        s2 = instrument.partitionByInstrument(s)\n",
    "        hasInstrument = True\n",
    "        if s2 != None:\n",
    "            print(len(s2.parts))\n",
    "        else:\n",
    "            s2 = s\n",
    "            hasInstrument = False\n",
    "        #splitAtQuarterLength\n",
    "\n",
    "        part = s2.parts[0]\n",
    "        bpm = 120\n",
    "        for i in range(0,len(part)):\n",
    "            bpm =str(part[i])\n",
    "            if 'MetronomeMark' in bpm:\n",
    "                eq_ind=bpm.index('=')\n",
    "                bpm=bpm[eq_ind+1:]\n",
    "                bpm=bpm.replace('>','')\n",
    "                break\n",
    "        bpm=float(bpm)\n",
    "        print(bpm)\n",
    "\n",
    "\n",
    "        count = 1;\n",
    "        countMeas = 0;\n",
    "        print(s.duration)\n",
    "        #count2 = 1\n",
    "        #for p in s2.parts:\n",
    "        #    p.write('midi','./midiFiles/partChorA' + str(count2) + '.mid')\n",
    "        #    count2 += 1\n",
    "\n",
    "\n",
    "        for p in s2.parts:\n",
    "            m = stream.Stream()\n",
    "            streamMeas = p.makeMeasures()\n",
    "            for i in range(1, len(streamMeas)):\n",
    "                measure = streamMeas[i]\n",
    "                print(measure)\n",
    "                measure.show(\"text\")\n",
    "                m.append(measure)\n",
    "\n",
    "                if len(m) == 2:\n",
    "                    if len(m[0].flat.elements) != 0 or len(m[1].flat.elements) != 0:\n",
    "                        path = './midiFiles/part'\n",
    "                        \n",
    "                        mid = '.mid'\n",
    "                        fileName = path + str(count) + mid\n",
    "                        count += 1\n",
    "                        m.write('midi', fileName)\n",
    "                    m = stream.Stream()\n",
    "\n"
   ]
  },
  {
   "cell_type": "code",
   "execution_count": null,
   "metadata": {
    "collapsed": false,
    "scrolled": false
   },
   "outputs": [],
   "source": [
    "import os  \n",
    "for fn in os.listdir('./midiFiles/RealSlimShadyParts'):\n",
    "    print (fn)"
   ]
  },
  {
   "cell_type": "code",
   "execution_count": null,
   "metadata": {
    "collapsed": false,
    "scrolled": true
   },
   "outputs": [],
   "source": [
    "s = converter.parse('./midiFiles/Notorious_BIG_-_Mo_Money_Mo_Problems.mid')\n",
    "\n",
    "s2 = instrument.partitionByInstrument(s)\n",
    "print(len(s2.parts))\n",
    "\n",
    "count = 1;\n",
    "for p in s2.parts:\n",
    "    print(p)\n",
    "    path = './midiFiles/MoMoneyMoProblemsParts/part'\n",
    "    mid = '.mid'\n",
    "    fileName = path + str(count) + mid\n",
    "    print(fileName)\n",
    "    count += 1\n",
    "    p.write('midi', fileName)\n"
   ]
  },
  {
   "cell_type": "code",
   "execution_count": null,
   "metadata": {
    "collapsed": false,
    "scrolled": true
   },
   "outputs": [],
   "source": [
    "s = converter.parse('./midiFiles/X_Gonna_Give_It_To_Ya_-_DMX.mid')\n",
    "\n",
    "s2 = instrument.partitionByInstrument(s)\n",
    "print(len(s2.parts))\n",
    "\n",
    "count = 1;\n",
    "for p in s2.parts:\n",
    "    print(p)\n",
    "    path = './midiFiles/XGonnaGiveItToYaParts/part'\n",
    "    mid = '.mid'\n",
    "    fileName = path + str(count) + mid\n",
    "    print(fileName)\n",
    "    count += 1\n",
    "    p.write('midi', fileName)\n"
   ]
  },
  {
   "cell_type": "code",
   "execution_count": null,
   "metadata": {
    "collapsed": false,
    "scrolled": true
   },
   "outputs": [],
   "source": [
    "path = './midiFiles/MoMoneyMoProblemsParts/'\n",
    "strFile = path + 'part1.mid' \n",
    "a = converter.parse(strFile) #midi.translate.midiFileToStream(strFile)\n",
    "sc = stream.Score()\n",
    "for fn in os.listdir('./midiFiles/MoMoneyMoProblemsParts'):\n",
    "    if('mid' in fn):\n",
    "        musicPart = converter.parse('./midiFiles/MoMoneyMoProblemsParts/' + fn)\n",
    "    a.insert(0, musicPart)\n",
    "\n",
    "a.write('midi', path + 'original.md')\n"
   ]
  },
  {
   "cell_type": "code",
   "execution_count": null,
   "metadata": {
    "collapsed": true,
    "scrolled": true
   },
   "outputs": [],
   "source": []
  }
 ],
 "metadata": {
  "kernelspec": {
   "display_name": "Python 3",
   "language": "python",
   "name": "python3"
  },
  "language_info": {
   "codemirror_mode": {
    "name": "ipython",
    "version": 3
   },
   "file_extension": ".py",
   "mimetype": "text/x-python",
   "name": "python",
   "nbconvert_exporter": "python",
   "pygments_lexer": "ipython3",
   "version": "3.6.0"
  }
 },
 "nbformat": 4,
 "nbformat_minor": 2
}
