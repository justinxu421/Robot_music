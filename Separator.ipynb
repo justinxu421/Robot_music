{
 "cells": [
  {
   "cell_type": "code",
   "execution_count": null,
   "metadata": {
    "scrolled": true
   },
   "outputs": [],
   "source": [
    "from music21 import converter,instrument # or import *\n",
    "s = converter.parse('/Users/Justin/Robot_music/midiFiles/eminem-the_real_slim_shady.mid')\n",
    "\n",
    "s2 = instrument.partitionByInstrument(s)\n",
    "print(len(s2.parts))\n",
    "\n",
    "count = 1;\n",
    "for p in s2.parts:\n",
    "    print(p)\n",
    "    path = '/Users/Justin/Robot_music/midiFiles/part'\n",
    "    mid = '.mid'\n",
    "    fileName = path + str(count) + mid\n",
    "    print(fileName)\n",
    "    count += 1\n",
    "    p.write('midi', fileName)\n"
   ]
  },
  {
   "cell_type": "code",
   "execution_count": 4,
   "metadata": {},
   "outputs": [
    {
     "name": "stdout",
     "output_type": "stream",
     "text": [
      "6\n",
      "<music21.stream.Part Electric Bass>\n",
      "/Users/Justin/Robot_music/midiFiles/IceIceBaby/part1.mid\n",
      "<music21.stream.Part Piano>\n",
      "/Users/Justin/Robot_music/midiFiles/IceIceBaby/part2.mid\n",
      "<music21.stream.Part object at 0x0000021FBA2A1A20>\n",
      "/Users/Justin/Robot_music/midiFiles/IceIceBaby/part3.mid\n"
     ]
    },
    {
     "name": "stderr",
     "output_type": "stream",
     "text": [
      "midi.base.py: WARNING: Conversion error for <MidiEvent PROGRAM_CHANGE, t=0, track=1, channel=1>: Got incorrect data for <MidiEvent PROGRAM_CHANGE, t=0, track=1, channel=1> in .data: None,cannot parse Program Change; ignored.\n"
     ]
    },
    {
     "name": "stdout",
     "output_type": "stream",
     "text": [
      "<music21.stream.Part Horn>\n",
      "/Users/Justin/Robot_music/midiFiles/IceIceBaby/part4.mid\n",
      "<music21.stream.Part StringInstrument>\n",
      "/Users/Justin/Robot_music/midiFiles/IceIceBaby/part5.mid\n",
      "<music21.stream.Part Timpani>\n",
      "/Users/Justin/Robot_music/midiFiles/IceIceBaby/part6.mid\n"
     ]
    }
   ],
   "source": [
    "s = converter.parse('/Users/Justin/Robot_music/midiFiles/Ringo_Starr_-_Photograph.mid')\n",
    "\n",
    "s2 = instrument.partitionByInstrument(s)\n",
    "print(len(s2.parts))\n",
    "\n",
    "count = 1;\n",
    "for p in s2.parts:\n",
    "    print(p)\n",
    "    path = '/Users/Justin/Robot_music/midiFiles/IceIceBaby/part'\n",
    "    mid = '.mid'\n",
    "    fileName = path + str(count) + mid\n",
    "    print(fileName)\n",
    "    count += 1\n",
    "    p.write('midi', fileName)\n"
   ]
  },
  {
   "cell_type": "code",
   "execution_count": null,
   "metadata": {},
   "outputs": [],
   "source": []
  }
 ],
 "metadata": {
  "kernelspec": {
   "display_name": "Python 3",
   "language": "python",
   "name": "python3"
  },
  "language_info": {
   "codemirror_mode": {
    "name": "ipython",
    "version": 3
   },
   "file_extension": ".py",
   "mimetype": "text/x-python",
   "name": "python",
   "nbconvert_exporter": "python",
   "pygments_lexer": "ipython3",
   "version": "3.6.2"
  }
 },
 "nbformat": 4,
 "nbformat_minor": 2
}
