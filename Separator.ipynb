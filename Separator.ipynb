{
 "cells": [
  {
   "cell_type": "code",
   "execution_count": 18,
   "metadata": {
    "scrolled": true
   },
   "outputs": [
    {
     "name": "stdout",
     "output_type": "stream",
     "text": [
      "5\n",
      "<music21.stream.Part Harpsichord>\n",
      "./midiFiles/RealSlimShadyParts/part1.mid\n",
      "<music21.stream.Part object at 0x0000021FBAD46A20>\n",
      "./midiFiles/RealSlimShadyParts/part2.mid\n",
      "<music21.stream.Part Piano>\n",
      "./midiFiles/RealSlimShadyParts/part3.mid\n",
      "<music21.stream.Part StringInstrument>\n",
      "./midiFiles/RealSlimShadyParts/part4.mid\n",
      "<music21.stream.Part Flute>\n",
      "./midiFiles/RealSlimShadyParts/part5.mid\n"
     ]
    },
    {
     "name": "stderr",
     "output_type": "stream",
     "text": [
      "midi.base.py: WARNING: Conversion error for <MidiEvent PROGRAM_CHANGE, t=0, track=1, channel=1>: Got incorrect data for <MidiEvent PROGRAM_CHANGE, t=0, track=1, channel=1> in .data: None,cannot parse Program Change; ignored.\n"
     ]
    }
   ],
   "source": [
    "from music21 import converter,instrument # or import *\n",
    "s = converter.parse('./midiFiles/eminem-the_real_slim_shady.mid')\n",
    "\n",
    "s2 = instrument.partitionByInstrument(s)\n",
    "print(len(s2.parts))\n",
    "\n",
    "count = 1;\n",
    "for p in s2.parts:\n",
    "    print(p)\n",
    "    path = './midiFiles/RealSlimShadyParts/part'\n",
    "    mid = '.mid'\n",
    "    fileName = path + str(count) + mid\n",
    "    print(fileName)\n",
    "    count += 1\n",
    "    p.write('midi', fileName)\n"
   ]
  },
  {
   "cell_type": "code",
   "execution_count": 10,
   "metadata": {},
   "outputs": [
    {
     "name": "stdout",
     "output_type": "stream",
     "text": [
      "6\n",
      "<music21.stream.Part Electric Bass>\n",
      "./midiFiles/Photograph/part1.mid\n",
      "<music21.stream.Part Piano>\n",
      "./midiFiles/Photograph/part2.mid\n",
      "<music21.stream.Part object at 0x0000021FBB039518>\n",
      "./midiFiles/Photograph/part3.mid\n"
     ]
    },
    {
     "name": "stderr",
     "output_type": "stream",
     "text": [
      "midi.base.py: WARNING: Conversion error for <MidiEvent PROGRAM_CHANGE, t=0, track=1, channel=1>: Got incorrect data for <MidiEvent PROGRAM_CHANGE, t=0, track=1, channel=1> in .data: None,cannot parse Program Change; ignored.\n"
     ]
    },
    {
     "name": "stdout",
     "output_type": "stream",
     "text": [
      "<music21.stream.Part Horn>\n",
      "./midiFiles/Photograph/part4.mid\n",
      "<music21.stream.Part StringInstrument>\n",
      "./midiFiles/Photograph/part5.mid\n",
      "<music21.stream.Part Timpani>\n",
      "./midiFiles/Photograph/part6.mid\n"
     ]
    }
   ],
   "source": [
    "s = converter.parse('./midiFiles/Ringo_Starr_-_Photograph.mid')\n",
    "\n",
    "s2 = instrument.partitionByInstrument(s)\n",
    "print(len(s2.parts))\n",
    "\n",
    "count = 1;\n",
    "for p in s2.parts:\n",
    "    print(p)\n",
    "    path = './midiFiles/Photograph/part'\n",
    "    mid = '.mid'\n",
    "    fileName = path + str(count) + mid\n",
    "    print(fileName)\n",
    "    count += 1\n",
    "    p.write('midi', fileName)\n"
   ]
  },
  {
   "cell_type": "code",
   "execution_count": 25,
   "metadata": {},
   "outputs": [
    {
     "ename": "FileNotFoundError",
     "evalue": "[WinError 3] The system cannot find the path specified: 'Users/Justin/Robot_music'",
     "output_type": "error",
     "traceback": [
      "\u001b[1;31m---------------------------------------------------------------------------\u001b[0m",
      "\u001b[1;31mFileNotFoundError\u001b[0m                         Traceback (most recent call last)",
      "\u001b[1;32m<ipython-input-25-a545b6eda79c>\u001b[0m in \u001b[0;36m<module>\u001b[1;34m()\u001b[0m\n\u001b[0;32m      1\u001b[0m \u001b[1;32mimport\u001b[0m \u001b[0mos\u001b[0m\u001b[1;33m\u001b[0m\u001b[0m\n\u001b[1;32m----> 2\u001b[1;33m \u001b[1;32mfor\u001b[0m \u001b[0mfn\u001b[0m \u001b[1;32min\u001b[0m \u001b[0mos\u001b[0m\u001b[1;33m.\u001b[0m\u001b[0mlistdir\u001b[0m\u001b[1;33m(\u001b[0m\u001b[1;34m'Users/Justin/Robot_music'\u001b[0m\u001b[1;33m)\u001b[0m\u001b[1;33m:\u001b[0m\u001b[1;33m\u001b[0m\u001b[0m\n\u001b[0m\u001b[0;32m      3\u001b[0m      \u001b[1;32mif\u001b[0m \u001b[0mos\u001b[0m\u001b[1;33m.\u001b[0m\u001b[0mpath\u001b[0m\u001b[1;33m.\u001b[0m\u001b[0misfile\u001b[0m\u001b[1;33m(\u001b[0m\u001b[0mfn\u001b[0m\u001b[1;33m)\u001b[0m\u001b[1;33m:\u001b[0m\u001b[1;33m\u001b[0m\u001b[0m\n\u001b[0;32m      4\u001b[0m         \u001b[0mprint\u001b[0m \u001b[1;33m(\u001b[0m\u001b[0mfn\u001b[0m\u001b[1;33m)\u001b[0m\u001b[1;33m\u001b[0m\u001b[0m\n",
      "\u001b[1;31mFileNotFoundError\u001b[0m: [WinError 3] The system cannot find the path specified: 'Users/Justin/Robot_music'"
     ]
    }
   ],
   "source": [
    "import os  \n",
    "for fn in os.listdir('/Users/Justin/Robot_music'):\n",
    "     if os.path.isfile(fn):\n",
    "        print (fn)"
   ]
  },
  {
   "cell_type": "code",
   "execution_count": null,
   "metadata": {},
   "outputs": [],
   "source": []
  },
  {
   "cell_type": "code",
   "execution_count": null,
   "metadata": {},
   "outputs": [],
   "source": []
  },
  {
   "cell_type": "code",
   "execution_count": null,
   "metadata": {},
   "outputs": [],
   "source": []
  },
  {
   "cell_type": "code",
   "execution_count": null,
   "metadata": {},
   "outputs": [],
   "source": []
  }
 ],
 "metadata": {
  "kernelspec": {
   "display_name": "Python 3",
   "language": "python",
   "name": "python3"
  },
  "language_info": {
   "codemirror_mode": {
    "name": "ipython",
    "version": 3
   },
   "file_extension": ".py",
   "mimetype": "text/x-python",
   "name": "python",
   "nbconvert_exporter": "python",
   "pygments_lexer": "ipython3",
   "version": "3.6.2"
  }
 },
 "nbformat": 4,
 "nbformat_minor": 2
}
