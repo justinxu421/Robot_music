{
 "cells": [
  {
   "cell_type": "code",
   "execution_count": 4,
   "metadata": {
    "scrolled": true
   },
   "outputs": [
    {
     "name": "stderr",
     "output_type": "stream",
     "text": [
      "music21: Certain music21 functions might need these optional packages: matplotlib, scipy;\n",
      "                   if you run into errors, install them by following the instructions at\n",
      "                   http://mit.edu/music21/doc/installing/installAdditional.html\n"
     ]
    },
    {
     "name": "stdout",
     "output_type": "stream",
     "text": [
      "5\n",
      "<music21.stream.Part Harpsichord>\n",
      "./midiFiles/RealSlimShadyParts/part1.mid\n",
      "<music21.stream.Part object at 0x000001672C457240>\n",
      "./midiFiles/RealSlimShadyParts/part2.mid\n"
     ]
    },
    {
     "name": "stderr",
     "output_type": "stream",
     "text": [
      "midi.base.py: WARNING: Conversion error for <MidiEvent PROGRAM_CHANGE, t=0, track=1, channel=1>: Got incorrect data for <MidiEvent PROGRAM_CHANGE, t=0, track=1, channel=1> in .data: None,cannot parse Program Change; ignored.\n"
     ]
    },
    {
     "name": "stdout",
     "output_type": "stream",
     "text": [
      "<music21.stream.Part Piano>\n",
      "./midiFiles/RealSlimShadyParts/part3.mid\n",
      "<music21.stream.Part StringInstrument>\n",
      "./midiFiles/RealSlimShadyParts/part4.mid\n",
      "<music21.stream.Part Flute>\n",
      "./midiFiles/RealSlimShadyParts/part5.mid\n"
     ]
    }
   ],
   "source": [
    "from music21 import converter,instrument # or import *\n",
    "s = converter.parse('./midiFiles/eminem-the_real_slim_shady.mid')\n",
    "\n",
    "s2 = instrument.partitionByInstrument(s)\n",
    "print(len(s2.parts))\n",
    "\n",
    "count = 1;\n",
    "for p in s2.parts:\n",
    "    print(p)\n",
    "    path = './midiFiles/RealSlimShadyParts/part'\n",
    "    mid = '.mid'\n",
    "    fileName = path + str(count) + mid\n",
    "    print(fileName)\n",
    "    count += 1\n",
    "    p.write('midi', fileName)\n"
   ]
  },
  {
   "cell_type": "code",
   "execution_count": 15,
   "metadata": {},
   "outputs": [
    {
     "name": "stdout",
     "output_type": "stream",
     "text": [
      "2\n",
      "<music21.stream.Part Piano>\n",
      "./midiFiles/YoungWildAndFreeParts/part1.mid\n",
      "<music21.stream.Part Acoustic Bass>\n",
      "./midiFiles/YoungWildAndFreeParts/part2.mid\n"
     ]
    }
   ],
   "source": [
    "s = converter.parse('./midiFiles/YoungandWildandFree-SnoopDogg.mid')\n",
    "\n",
    "s2 = instrument.partitionByInstrument(s)\n",
    "print(len(s2.parts))\n",
    "\n",
    "count = 1;\n",
    "for p in s2.parts:\n",
    "    print(p)\n",
    "    path = './midiFiles/YoungWildAndFreeParts/part'\n",
    "    mid = '.mid'\n",
    "    fileName = path + str(count) + mid\n",
    "    print(fileName)\n",
    "    count += 1\n",
    "    p.write('midi', fileName)\n"
   ]
  },
  {
   "cell_type": "code",
   "execution_count": 12,
   "metadata": {
    "scrolled": true
   },
   "outputs": [
    {
     "name": "stdout",
     "output_type": "stream",
     "text": [
      "part1.mid\n",
      "part2.mid\n",
      "part3.mid\n",
      "part4.mid\n",
      "part5.mid\n"
     ]
    }
   ],
   "source": [
    "import os  \n",
    "for fn in os.listdir('./midiFiles/RealSlimShadyParts'):\n",
    "    print (fn)"
   ]
  },
  {
   "cell_type": "code",
   "execution_count": 23,
   "metadata": {},
   "outputs": [
    {
     "name": "stdout",
     "output_type": "stream",
     "text": [
      "4\n",
      "<music21.stream.Part Acoustic Bass>\n",
      "./midiFiles/JiggyWithItParts/part1.mid\n",
      "<music21.stream.Part object at 0x00000167028AC898>\n",
      "./midiFiles/JiggyWithItParts/part2.mid\n"
     ]
    },
    {
     "name": "stderr",
     "output_type": "stream",
     "text": [
      "midi.base.py: WARNING: Conversion error for <MidiEvent PROGRAM_CHANGE, t=0, track=1, channel=1>: Got incorrect data for <MidiEvent PROGRAM_CHANGE, t=0, track=1, channel=1> in .data: None,cannot parse Program Change; ignored.\n"
     ]
    },
    {
     "name": "stdout",
     "output_type": "stream",
     "text": [
      "<music21.stream.Part Voice>\n",
      "./midiFiles/JiggyWithItParts/part3.mid\n",
      "<music21.stream.Part Trumpet>\n",
      "./midiFiles/JiggyWithItParts/part4.mid\n"
     ]
    }
   ],
   "source": [
    "s = converter.parse('./midiFiles/Notorious_BIG_-_Mo_Money_Mo_Problems.mid')\n",
    "\n",
    "s2 = instrument.partitionByInstrument(s)\n",
    "print(len(s2.parts))\n",
    "\n",
    "count = 1;\n",
    "for p in s2.parts:\n",
    "    print(p)\n",
    "    path = './midiFiles/MoMoneyMoProblemsParts/part'\n",
    "    mid = '.mid'\n",
    "    fileName = path + str(count) + mid\n",
    "    print(fileName)\n",
    "    count += 1\n",
    "    p.write('midi', fileName)\n"
   ]
  },
  {
   "cell_type": "code",
   "execution_count": 24,
   "metadata": {},
   "outputs": [
    {
     "name": "stdout",
     "output_type": "stream",
     "text": [
      "3\n",
      "<music21.stream.Part Trumpet>\n",
      "./midiFiles/XGonnaGiveItToYaParts/part1.mid\n",
      "<music21.stream.Part object at 0x0000016701830128>\n",
      "./midiFiles/XGonnaGiveItToYaParts/part2.mid\n",
      "<music21.stream.Part Piano>\n",
      "./midiFiles/XGonnaGiveItToYaParts/part3.mid\n"
     ]
    },
    {
     "name": "stderr",
     "output_type": "stream",
     "text": [
      "midi.base.py: WARNING: Conversion error for <MidiEvent PROGRAM_CHANGE, t=0, track=1, channel=1>: Got incorrect data for <MidiEvent PROGRAM_CHANGE, t=0, track=1, channel=1> in .data: None,cannot parse Program Change; ignored.\n"
     ]
    }
   ],
   "source": [
    "s = converter.parse('./midiFiles/X_Gonna_Give_It_To_Ya_-_DMX.mid')\n",
    "\n",
    "s2 = instrument.partitionByInstrument(s)\n",
    "print(len(s2.parts))\n",
    "\n",
    "count = 1;\n",
    "for p in s2.parts:\n",
    "    print(p)\n",
    "    path = './midiFiles/XGonnaGiveItToYaParts/part'\n",
    "    mid = '.mid'\n",
    "    fileName = path + str(count) + mid\n",
    "    print(fileName)\n",
    "    count += 1\n",
    "    p.write('midi', fileName)\n"
   ]
  },
  {
   "cell_type": "code",
   "execution_count": null,
   "metadata": {},
   "outputs": [],
   "source": []
  },
  {
   "cell_type": "code",
   "execution_count": null,
   "metadata": {},
   "outputs": [],
   "source": []
  }
 ],
 "metadata": {
  "kernelspec": {
   "display_name": "Python 3",
   "language": "python",
   "name": "python3"
  },
  "language_info": {
   "codemirror_mode": {
    "name": "ipython",
    "version": 3
   },
   "file_extension": ".py",
   "mimetype": "text/x-python",
   "name": "python",
   "nbconvert_exporter": "python",
   "pygments_lexer": "ipython3",
   "version": "3.6.2"
  }
 },
 "nbformat": 4,
 "nbformat_minor": 2
}
