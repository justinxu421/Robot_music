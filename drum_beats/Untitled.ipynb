{
 "cells": [
  {
   "cell_type": "code",
   "execution_count": 7,
   "metadata": {},
   "outputs": [
    {
     "ename": "SyntaxError",
     "evalue": "invalid syntax (<ipython-input-7-0ca1b67e6256>, line 4)",
     "output_type": "error",
     "traceback": [
      "\u001b[1;36m  File \u001b[1;32m\"<ipython-input-7-0ca1b67e6256>\"\u001b[1;36m, line \u001b[1;32m4\u001b[0m\n\u001b[1;33m    drums_rnn_generate --config=${CONFIG} --bundle_file=${BUNDLE_PATH} --output_dir=/tmp/drums_rnn/generated --num_outputs=10 --num_steps=128 --primer_midi=\"[(36, 42), (), (42,)]\"\u001b[0m\n\u001b[1;37m                                ^\u001b[0m\n\u001b[1;31mSyntaxError\u001b[0m\u001b[1;31m:\u001b[0m invalid syntax\n"
     ]
    }
   ],
   "source": [
    "BUNDLE_PATH= '~/Robot_music/drum_beats'\n",
    "CONFIG='drum_kit_rnn'\n",
    "\n",
    "drums_rnn_generate \\\n",
    "--config=${CONFIG} \\\n",
    "--bundle_file=${BUNDLE_PATH} \\\n",
    "--output_dir=/tmp/drums_rnn/generated \\\n",
    "--num_outputs=10 \\\n",
    "--num_steps=128 \\\n",
    "--primer_midi=\"[(36, 42), (), (42,)]\""
   ]
  },
  {
   "cell_type": "code",
   "execution_count": 6,
   "metadata": {},
   "outputs": [
    {
     "data": {
      "text/plain": [
       "''"
      ]
     },
     "execution_count": 6,
     "metadata": {},
     "output_type": "execute_result"
    }
   ],
   "source": []
  },
  {
   "cell_type": "code",
   "execution_count": null,
   "metadata": {},
   "outputs": [],
   "source": []
  }
 ],
 "metadata": {
  "kernelspec": {
   "display_name": "Python 3",
   "language": "python",
   "name": "python3"
  },
  "language_info": {
   "codemirror_mode": {
    "name": "ipython",
    "version": 3
   },
   "file_extension": ".py",
   "mimetype": "text/x-python",
   "name": "python",
   "nbconvert_exporter": "python",
   "pygments_lexer": "ipython3",
   "version": "3.6.2"
  }
 },
 "nbformat": 4,
 "nbformat_minor": 2
}
