{
 "cells": [
  {
   "cell_type": "code",
   "execution_count": null,
   "metadata": {
    "collapsed": true
   },
   "outputs": [],
   "source": [
    "path = './midiFiles/MoMoneyMoProblemsParts/'\n",
    "strFile = path + 'part1.mid' \n",
    "a = converter.parse(strFile) #midi.translate.midiFileToStream(strFile)\n",
    "sc = stream.Score()\n",
    "for fn in os.listdir('./midiFiles/MoMoneyMoProblemsParts'):\n",
    "    if('mid' in fn):\n",
    "        musicPart = converter.parse('./midiFiles/MoMoneyMoProblemsParts/' + fn)\n",
    "    a.insert(0, musicPart)\n",
    "\n",
    "a.write('midi', path + 'original.md')\n"
   ]
  }
 ],
 "metadata": {
  "kernelspec": {
   "display_name": "Python 3",
   "language": "python",
   "name": "python3"
  },
  "language_info": {
   "codemirror_mode": {
    "name": "ipython",
    "version": 3
   },
   "file_extension": ".py",
   "mimetype": "text/x-python",
   "name": "python",
   "nbconvert_exporter": "python",
   "pygments_lexer": "ipython3",
   "version": "3.6.0"
  }
 },
 "nbformat": 4,
 "nbformat_minor": 2
}
