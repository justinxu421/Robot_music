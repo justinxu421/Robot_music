{
 "cells": [
  {
   "cell_type": "code",
   "execution_count": null,
   "metadata": {
    "collapsed": true
   },
   "outputs": [],
   "source": [
    "a = converter.parse(strFile) #\n",
    "for fn in os.listdir('./midiFiles/Photograph'):\n",
    "    if('mid' in fn):\n",
    "        musicPart = converter.parse('./midiFiles/Photograph/' + fn)\n",
    "    #for n in musicPart.notes:\n",
    "    a.insert(0, musicPart)\n",
    "\n",
    "a.write('midi', './midiFiles/Photograph/original.mid')"
   ]
  }
 ],
 "metadata": {
  "kernelspec": {
   "display_name": "Python 3",
   "language": "python",
   "name": "python3"
  },
  "language_info": {
   "codemirror_mode": {
    "name": "ipython",
    "version": 3
   },
   "file_extension": ".py",
   "mimetype": "text/x-python",
   "name": "python",
   "nbconvert_exporter": "python",
   "pygments_lexer": "ipython3",
   "version": "3.6.2"
  }
 },
 "nbformat": 4,
 "nbformat_minor": 2
}
